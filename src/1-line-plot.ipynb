import matplotlib.pyplot as plt
import numpy as np


x = np.linspace(0, 10, 100)  # Generate 100 points between 0 and 10
y = x**2

plt.figure(figsize=(8, 5))
plt.plot(x, y, label="y = x^2", color="blue", linewidth=2)

plt.title("Line Plot of y = x^2", fontsize=14)
plt.xlabel("x values", fontsize=12)
plt.ylabel("y values", fontsize=12)
plt.grid(True, which="both", linestyle="--", linewidth=0.5)
plt.legend()

plt.show()

 },
 "nbformat": 4,
 "nbformat_minor": 2
}
