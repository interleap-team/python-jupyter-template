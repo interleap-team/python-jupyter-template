{
 "cells": [
  {
   "cell_type": "markdown",
   "metadata": {},
   "source": [
    "### Exercise 1: Line Plot Customization"
   ]
  },
  {
   "cell_type": "code",
   "execution_count": null,
   "metadata": {},
   "outputs": [],
   "source": [
    import matplotlib.pyplot as plt
import numpy as np

# Data
x = np.linspace(0, 10, 100)
y = x**2

# Create the plot
plt.plot(x, y)

# Customize the plot
plt.title("Plot of y = x^2")
plt.xlabel("x values")
plt.ylabel("y values (x^2)")
plt.grid(True)

# Display the plot
plt.show()
   ]
  }
 ],
 "metadata": {
  "language_info": {
   "name": "python"
  }
 },
 "nbformat": 4,
 "nbformat_minor": 2
}
