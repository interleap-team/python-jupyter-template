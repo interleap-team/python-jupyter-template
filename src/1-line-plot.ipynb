{
 "cells": [
  {
   "cell_type": "markdown",
   "metadata": {},
   "source": [
    "### Exercise 1: Line Plot Customization"
   ]
  },
  {
   "cell_type": "code",
   "execution_count": 2,
   "metadata": {},
   "outputs": [],
   "source": [
    "# TASK: Create a line plot with x values ranging from 0 to 10 and y values as the square of x.\n",
    "# Customize the plot by adding a title, labels for both axes, and a grid."
   ]
  },
  {
   "cell_type": "code",
   "execution_count": 3,
   "metadata": {},
   "outputs": [
    {
     "name": "stdout",
     "output_type": "stream",
     "text": [
      "Error: All elements in input data must be numeric.\n"
     ]
    }
   ],
   "source": [
    "import matplotlib.pyplot as plt\n",
    "import numpy as np\n",
    "\n",
    "def validate_data(x):\n",
    "    \"\"\"Checks if the input data is valid.\"\"\"\n",
    "    if x is None or len(x) == 0:\n",
    "        raise ValueError(\"Input data cannot be None or empty.\")\n",
    "    if not isinstance(x, (list, np.ndarray)):\n",
    "        raise TypeError(\"Input data must be a list or numpy array.\")\n",
    "    if any(not isinstance(i, (int, float)) for i in x):\n",
    "        raise ValueError(\"All elements in input data must be numeric.\")\n",
    "    return np.array(x)\n",
    "\n",
    "try:\n",
    "    # TASK: Create a line plot with x values ranging from 0 to 10 and y values as the square of x.\n",
    "    # Customize the plot by adding a title, labels for both axes, and a grid.\n",
    "    \n",
    "    # Data\n",
    "    x = np.arange(0, 11)\n",
    "    x = validate_data(x)\n",
    "    y = x**2\n",
    "    \n",
    "    # Create the line plot\n",
    "    plt.plot(x, y, marker='o', color='b', linestyle='-', linewidth=2)\n",
    "    \n",
    "    # Add title and labels\n",
    "    plt.title('Line Plot of y = x^2')\n",
    "    plt.xlabel('x Values')\n",
    "    plt.ylabel('y Values')\n",
    "    \n",
    "    # Add grid\n",
    "    plt.grid(True)\n",
    "    \n",
    "    # Show the plot\n",
    "    plt.show()\n",
    "\n",
    "except (ValueError, TypeError) as e:\n",
    "    print(f\"Error: {e}\")\n"
   ]
  },
  {
   "cell_type": "code",
   "execution_count": null,
   "metadata": {},
   "outputs": [],
   "source": []
  }
 ],
 "metadata": {
  "kernelspec": {
   "display_name": "Python 3",
   "language": "python",
   "name": "python3"
  },
  "language_info": {
   "codemirror_mode": {
    "name": "ipython",
    "version": 3
   },
   "file_extension": ".py",
   "mimetype": "text/x-python",
   "name": "python",
   "nbconvert_exporter": "python",
   "pygments_lexer": "ipython3",
   "version": "3.10.12"
  }
 },
 "nbformat": 4,
 "nbformat_minor": 2
}
